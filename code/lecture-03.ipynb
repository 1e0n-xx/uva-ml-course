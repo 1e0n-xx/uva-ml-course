{
 "cells": [
  {
   "cell_type": "code",
   "execution_count": null,
   "metadata": {},
   "outputs": [],
   "source": [
    "# Load necessary packages\n",
    "\n",
    "import matplotlib.pyplot as plt\n",
    "import numpy as np\n",
    "from sklearn import datasets, linear_model"
   ]
  },
  {
   "cell_type": "markdown",
   "metadata": {},
   "source": [
    "\n",
    "# Linear Regression Example\n",
    "\n",
    "Adopted from [the official Sklearn example](https://scikit-learn.org/stable/auto_examples/linear_model/plot_ols.html#sphx-glr-auto-examples-linear-model-plot-ols-py) of linear regression.\n",
    "\n",
    "This example uses the only the first feature of the `diabetes` dataset, in\n",
    "order to illustrate a two-dimensional plot of this regression technique. The\n",
    "straight line can be seen in the plot, showing how linear regression attempts\n",
    "to draw a straight line that will best minimize the residual sum of squares\n",
    "between the observed responses in the dataset, and the responses predicted by\n",
    "the linear approximation.\n",
    "\n",
    "The coefficients, the residual sum of squares and the coefficient\n",
    "of determination are also calculated.\n"
   ]
  },
  {
   "cell_type": "code",
   "execution_count": null,
   "metadata": {},
   "outputs": [],
   "source": [
    "from sklearn.metrics import mean_squared_error, r2_score"
   ]
  },
  {
   "cell_type": "code",
   "execution_count": null,
   "metadata": {},
   "outputs": [],
   "source": [
    "# Load the diabetes dataset\n",
    "X, Y = datasets.load_diabetes(return_X_y=True)\n",
    "\n",
    "print(X.shape)\n",
    "# Use only one feature\n",
    "X = X[:,np.newaxis, 2]\n",
    "print(X.shape)\n",
    "print(np.newaxis)\n",
    "\n",
    "n = 50 # Test examples\n",
    "trn_X, tst_X = X[:-n], X[-n:]\n",
    "trn_Y, tst_Y = Y[:-n], Y[-n:]\n",
    "\n",
    "print(trn_X.shape)"
   ]
  },
  {
   "cell_type": "code",
   "execution_count": null,
   "metadata": {},
   "outputs": [],
   "source": [
    "# Create linear regression object\n",
    "reg = linear_model.Ridge(alpha=0.0)\n",
    "# reg = linear_model.LinearRegression()\n",
    "\n",
    "# Train the model using the training sets\n",
    "reg.fit(trn_X, trn_Y)\n",
    "\n",
    "# Make predictions using the testing set\n",
    "trn_Y_pred = reg.predict(trn_X)\n",
    "tst_Y_pred = reg.predict(tst_X)\n",
    "\n",
    "# The coefficients\n",
    "print('Coefficients: %.5f', reg.coef_)\n",
    "\n",
    "# The mean squared error\n",
    "print('MSE on Training examples: %.2f' % mean_squared_error(trn_Y, trn_Y_pred))\n",
    "print('MSE on Test examples: %.2f' % mean_squared_error(tst_Y, tst_Y_pred))\n",
    "\n",
    "# Plot outputs\n",
    "plt.scatter(trn_X, trn_Y, color=\"red\")\n",
    "plt.scatter(tst_X, tst_Y,  color='blue')\n",
    "plt.plot(tst_X, tst_Y_pred, color='black', linewidth=3)\n",
    "\n",
    "plt.show()"
   ]
  },
  {
   "cell_type": "code",
   "execution_count": null,
   "metadata": {},
   "outputs": [],
   "source": []
  }
 ],
 "metadata": {
  "kernelspec": {
   "display_name": "Python 3",
   "language": "python",
   "name": "python3"
  },
  "language_info": {
   "codemirror_mode": {
    "name": "ipython",
    "version": 3
   },
   "file_extension": ".py",
   "mimetype": "text/x-python",
   "name": "python",
   "nbconvert_exporter": "python",
   "pygments_lexer": "ipython3",
   "version": "3.7.6"
  }
 },
 "nbformat": 4,
 "nbformat_minor": 1
}
