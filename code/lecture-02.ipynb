{
 "cells": [
  {
   "cell_type": "markdown",
   "metadata": {},
   "source": [
    "# Lecture 2: Basic Learning Theory"
   ]
  },
  {
   "cell_type": "code",
   "execution_count": 1,
   "metadata": {},
   "outputs": [],
   "source": [
    "import random\n",
    "import matplotlib.pyplot as plt\n",
    "from numpy.random import normal"
   ]
  },
  {
   "cell_type": "markdown",
   "metadata": {},
   "source": [
    "## Data Generation Process"
   ]
  },
  {
   "cell_type": "code",
   "execution_count": 14,
   "metadata": {},
   "outputs": [
    {
     "data": {
      "image/png": "[encoded data removed]",
      "text/plain": [
       "<Figure size 432x288 with 1 Axes>"
      ]
     },
     "metadata": {
      "needs_background": "light"
     },
     "output_type": "display_data"
    }
   ],
   "source": [
    "N = 1000 # sample size\n",
    "comp_idx = [1,2]\n",
    "x_pos, x_neg = [], [] # observations\n",
    "\n",
    "# There is a more efficient way than the for loop\n",
    "for i in range(N):\n",
    "    idx = random.sample(comp_idx,1)[0]\n",
    "    if idx == 1:\n",
    "        x_pos.append(normal(2,1))\n",
    "    elif idx == 2:\n",
    "        x_neg.append(normal(-2,1))\n",
    "    else:\n",
    "        raise ValueError(\"Unrecognized idx = {}\".format(idx))\n",
    "    \n",
    "# print(x_pos)\n",
    "# print(x_neg)\n",
    "\n",
    "plt.hist([x_pos,x_neg], bins=50, color=['r','b'])\n",
    "plt.savefig(\"data-gen.png\")"
   ]
  },
  {
   "cell_type": "markdown",
   "metadata": {},
   "source": [
    "## Finite Hypothesis Space"
   ]
  },
  {
   "cell_type": "code",
   "execution_count": null,
   "metadata": {},
   "outputs": [],
   "source": [
    "m = 8\n",
    "b = 0.2\n",
    "x = [random.uniform(0,1) for i in range(m)]\n",
    "y = [1 if (item>b) else -1 for item in x]\n",
    "\n",
    "plt.plot(x,y,\"o\", markersize=1)\n",
    "plt.xlim(-0.05,1.05)\n",
    "plt.ylim(-2,2)\n",
    "plt.yticks([-1,1], fontsize=16)\n",
    "plt.xticks(fontsize=16)\n",
    "plt.xlabel(\"$\\mathcal{X}$\", fontsize=18)\n",
    "plt.ylabel(\"$\\mathcal{Y}$\", fontsize=18)\n",
    "plt.savefig(\"dist-691.png\")"
   ]
  },
  {
   "cell_type": "markdown",
   "metadata": {},
   "source": [
    "## Unrealizable Case"
   ]
  },
  {
   "cell_type": "code",
   "execution_count": 3,
   "metadata": {},
   "outputs": [],
   "source": [
    "from numpy.random import beta as beta_sample\n",
    "from numpy import linspace\n",
    "from scipy.stats import beta\n",
    "import operator"
   ]
  },
  {
   "cell_type": "markdown",
   "metadata": {},
   "source": [
    "### Create Data"
   ]
  },
  {
   "cell_type": "code",
   "execution_count": 4,
   "metadata": {},
   "outputs": [],
   "source": [
    "# Number of examples per label\n",
    "m = 1000\n",
    "\n",
    "# Draw examples and assign labels\n",
    "x1 = list(beta_sample(4,1,m))\n",
    "y1 = [1]*m\n",
    "# print(sorted(x1))\n",
    "x2 = list(beta_sample(1,4,m))\n",
    "y2 = [-1]*m\n",
    "# print(sorted(x2))\n",
    "\n",
    "# Combine positive and negative examples\n",
    "x = x1 + x2\n",
    "y = y1 + y2\n",
    "\n",
    "# Plot the examples\n",
    "# plt.plot(x,y,\"o\", markersize=5)\n",
    "# plt.xlim(-0.05,1.05)\n",
    "# plt.ylim(-2,2)\n",
    "# plt.yticks([-1,1], fontsize=16)\n",
    "# plt.xticks(fontsize=16)\n",
    "# plt.xlabel(\"$\\mathcal{X}$\", fontsize=18)\n",
    "# plt.ylabel(\"$\\mathcal{Y}$\", fontsize=18)\n",
    "# plt.savefig(\"beta-10.png\")"
   ]
  },
  {
   "cell_type": "markdown",
   "metadata": {},
   "source": [
    "### Visualize Data Distribution"
   ]
  },
  {
   "cell_type": "code",
   "execution_count": 5,
   "metadata": {},
   "outputs": [
    {
     "data": {
      "image/png": "[encoded data removed]",
      "text/plain": [
       "<Figure size 432x288 with 1 Axes>"
      ]
     },
     "metadata": {
      "needs_background": "light"
     },
     "output_type": "display_data"
    }
   ],
   "source": [
    "# Plot the examples\n",
    "plt.hist([x1,x2], bins=50, color=['r','b'], density=True)\n",
    "\n",
    "# PDF plot of Beta(x;4,1)\n",
    "ls1 = linspace(beta.ppf(0.01, 4, 1),beta.ppf(0.99, 4, 1), 100)\n",
    "plt.plot(ls1, beta.pdf(ls1, 4, 1), 'r-', lw=2, alpha=0.6)\n",
    "\n",
    "# PDF plot of Beta(x;1,4)\n",
    "ls2 = linspace(beta.ppf(0.01, 1, 4),beta.ppf(0.99, 1, 4), 100)\n",
    "plt.plot(ls2, beta.pdf(ls2, 1, 4), 'r-', lw=2, alpha=0.6)\n",
    "\n",
    "# Save to file\n",
    "plt.savefig(\"beta-unrealistic.png\")"
   ]
  },
  {
   "cell_type": "markdown",
   "metadata": {},
   "source": [
    "### Compute Empirical Risk"
   ]
  },
  {
   "cell_type": "code",
   "execution_count": 6,
   "metadata": {},
   "outputs": [],
   "source": [
    "\n",
    "\n",
    "def compute_empirical_risk(x, y, b=0.5):\n",
    "    error_counts = 0.0\n",
    "\n",
    "    for (idx,val) in enumerate(x):\n",
    "        if (val <= b) and (y[idx] > 0):\n",
    "            error_counts += 1\n",
    "        elif (val > b) and (y[idx] < 0):\n",
    "            error_counts += 1\n",
    "            \n",
    "    return error_counts/len(x)\n",
    "\n",
    "def find_thresh(x, y):\n",
    "    res = {}\n",
    "    sorted_x = sorted(x)\n",
    "    for idx in range(len(x)-1):\n",
    "        if idx % 100 == 0:\n",
    "            print(idx)\n",
    "        b = (x[idx] + x[idx+1])/2\n",
    "        r = compute_empirical_risk(x, y, b)\n",
    "        res[b] = r\n",
    "    sorted_res = sorted(res.items(), key=operator.itemgetter(1))\n",
    "    print(sorted_res[0])\n",
    "    return sorted_res[0]"
   ]
  },
  {
   "cell_type": "code",
   "execution_count": 7,
   "metadata": {},
   "outputs": [
    {
     "name": "stdout",
     "output_type": "stream",
     "text": [
      "0\n",
      "100\n",
      "200\n",
      "300\n",
      "400\n",
      "500\n",
      "600\n",
      "700\n",
      "800\n",
      "900\n",
      "1000\n",
      "1100\n",
      "1200\n",
      "1300\n",
      "1400\n",
      "1500\n",
      "1600\n",
      "1700\n",
      "1800\n",
      "1900\n",
      "(0.4996525490801703, 0.0535)\n"
     ]
    }
   ],
   "source": [
    "# Compute the emprical risk\n",
    "\n",
    "b, er = find_thresh(x, y)"
   ]
  },
  {
   "cell_type": "code",
   "execution_count": 11,
   "metadata": {},
   "outputs": [
    {
     "name": "stdout",
     "output_type": "stream",
     "text": [
      "0.03125\n",
      "0.03125\n",
      "L_D(h^*) = 0.0625\n"
     ]
    }
   ],
   "source": [
    "# Compute the risk of the Bayes predictor\n",
    "\n",
    "tr_pos = 0.5*beta.cdf(0.5,4,1) # Give the prob P(X<0.5)\n",
    "print(tr_pos)\n",
    "\n",
    "tr_neg = 0.5*(1 - beta.cdf(0.5,1,4)) # Give the prob P(X>0.5)\n",
    "print(tr_neg)\n",
    "\n",
    "true_risk = tr_pos + tr_neg\n",
    "print(\"L_D(h^*) = {}\".format(true_risk))"
   ]
  },
  {
   "cell_type": "code",
   "execution_count": 12,
   "metadata": {},
   "outputs": [
    {
     "name": "stdout",
     "output_type": "stream",
     "text": [
      "0.031163227769711116\n",
      "0.03133695331351599\n",
      "L_D(h_S) = 0.06250018108322711\n"
     ]
    }
   ],
   "source": [
    "# Compute L_D(h_S)\n",
    "\n",
    "l_d_pos = 0.5*beta.cdf(b,4,1) # Give the prob P(X<0.5)\n",
    "print(l_d_pos)\n",
    "\n",
    "l_d_neg = 0.5*(1 - beta.cdf(b,1,4)) # Give the prob P(X>0.5)\n",
    "print(l_d_neg)\n",
    "\n",
    "L_d_risk = l_d_pos + l_d_neg\n",
    "print(\"L_D(h_S) = {}\".format(L_d_risk))"
   ]
  },
  {
   "cell_type": "code",
   "execution_count": null,
   "metadata": {},
   "outputs": [],
   "source": []
  }
 ],
 "metadata": {
  "kernelspec": {
   "display_name": "Python 3",
   "language": "python",
   "name": "python3"
  },
  "language_info": {
   "codemirror_mode": {
    "name": "ipython",
    "version": 3
   },
   "file_extension": ".py",
   "mimetype": "text/x-python",
   "name": "python",
   "nbconvert_exporter": "python",
   "pygments_lexer": "ipython3",
   "version": "3.7.3"
  }
 },
 "nbformat": 4,
 "nbformat_minor": 2
}
